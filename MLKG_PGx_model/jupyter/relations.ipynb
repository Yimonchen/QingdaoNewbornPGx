{
 "cells": [
  {
   "cell_type": "code",
   "execution_count": 3,
   "id": "758cf667",
   "metadata": {},
   "outputs": [],
   "source": [
    "import pandas as pd\n",
    "import os\n",
    "os.chdir(\"d:/functional-prediction\")"
   ]
  },
  {
   "cell_type": "code",
   "execution_count": 4,
   "id": "4f6f5130",
   "metadata": {},
   "outputs": [],
   "source": [
    "df_binary = pd.read_csv(\"output/qd_binary_score.csv\")\n",
    "df_multi = pd.read_csv(\"output/qd_multi_score.csv\")"
   ]
  },
  {
   "cell_type": "code",
   "execution_count": 7,
   "id": "157be003",
   "metadata": {},
   "outputs": [
    {
     "name": "stderr",
     "output_type": "stream",
     "text": [
      "d:\\anaconda\\envs\\drkg\\lib\\site-packages\\ipykernel_launcher.py:4: SettingWithCopyWarning: \n",
      "A value is trying to be set on a copy of a slice from a DataFrame.\n",
      "Try using .loc[row_indexer,col_indexer] = value instead\n",
      "\n",
      "See the caveats in the documentation: https://pandas.pydata.org/pandas-docs/stable/user_guide/indexing.html#returning-a-view-versus-a-copy\n",
      "  after removing the cwd from sys.path.\n"
     ]
    }
   ],
   "source": [
    "# (variant)-[variant_in_gene]-(gene)\n",
    "\n",
    "_df = df_binary[[\"gene\", \"variant\"]]\n",
    "_df[\"type\"] = [\"variant_in_gene\"] * len(_df)"
   ]
  },
  {
   "cell_type": "code",
   "execution_count": 8,
   "id": "58c1ceae",
   "metadata": {},
   "outputs": [],
   "source": [
    "# (variant)-[variant_classification]-(classification)\n",
    "_df = df_binary[[\n",
    "    \"variant\", \"score_eliminate_0\", \"score_eliminate_1\", \n",
    "    \"score_eliminate_2\", \"score_eliminate_3\", \"score_eliminate_4\",\n",
    "    \"score_eliminate_5\", \"score_eliminate_6\", \"score_eliminate_7\",\n",
    "    \"score_eliminate_8\", \"score_eliminate_9\", \"score_eliminate_10\",\n",
    "    \"score_eliminate_11\", \"score_eliminate_12\"\n",
    "]]\n",
    "\n",
    "classification = [\"deleterious\" if x > 0.5 else \"neutral\" for x in _df[\"score_eliminate_0\"].values]\n",
    "_df[\"classification\"] = classification\n",
    "_df[\"type\"] = [\"variant_classification\"] * len(_df)"
   ]
  },
  {
   "cell_type": "code",
   "execution_count": 9,
   "id": "a2bd58ad",
   "metadata": {},
   "outputs": [],
   "source": [
    "# (variant)-[variant_function]-(function)\n",
    "_df = df_multi[[\n",
    "    \"variant\", \"score_eliminate_0\", \"score_eliminate_1\", \n",
    "    \"score_eliminate_2\", \"score_eliminate_3\", \"score_eliminate_4\",\n",
    "    \"score_eliminate_5\", \"score_eliminate_6\", \"score_eliminate_7\",\n",
    "    \"score_eliminate_8\", \"score_eliminate_9\", \"score_eliminate_10\",\n",
    "    \"score_eliminate_11\", \"score_eliminate_12\"\n",
    "]]\n",
    "\n",
    "function = _df[\"score_eliminate_0\"].values\n",
    "_df[\"function\"] = function\n",
    "_df[\"type\"] = [\"variant_function\"] * len(_df)"
   ]
  },
  {
   "cell_type": "code",
   "execution_count": null,
   "id": "b1f98bc5",
   "metadata": {},
   "outputs": [],
   "source": []
  }
 ],
 "metadata": {
  "kernelspec": {
   "display_name": "Python 3",
   "language": "python",
   "name": "python3"
  },
  "language_info": {
   "codemirror_mode": {
    "name": "ipython",
    "version": 3
   },
   "file_extension": ".py",
   "mimetype": "text/x-python",
   "name": "python",
   "nbconvert_exporter": "python",
   "pygments_lexer": "ipython3",
   "version": "3.6.13"
  }
 },
 "nbformat": 4,
 "nbformat_minor": 5
}
